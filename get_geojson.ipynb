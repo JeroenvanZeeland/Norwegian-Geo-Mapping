{
 "cells": [
  {
   "cell_type": "code",
   "execution_count": 7,
   "metadata": {},
   "outputs": [],
   "source": [
    "import urllib.request\n",
    "import codecs\n",
    "import json \n",
    "\n",
    "# fylke data\n",
    "with urllib.request.urlopen(\"https://norgeskart.no/json/norge/fylker2018.geojson\") as url:\n",
    "    fylke_data = json.loads(url.read().decode('utf-8'))\n",
    "    \n",
    "f = codecs.open('fylke_data.txt' , 'w', 'utf-8')\n",
    "f.write(str(fylke_data))\n",
    "f.close()\n",
    "\n",
    "# kommune data\n",
    "with urllib.request.urlopen(\"https://norgeskart.no/json/norge/kommuner2018.geojson\") as url:\n",
    "    kommune_data = json.loads(url.read().decode('utf-8'))\n",
    "    \n",
    "f = codecs.open('kommune_data.txt' , 'w', 'utf-8')\n",
    "f.write(str(kommune_data))\n",
    "f.close()"
   ]
  }
 ],
 "metadata": {
  "kernelspec": {
   "display_name": "Python 3",
   "language": "python",
   "name": "python3"
  },
  "language_info": {
   "codemirror_mode": {
    "name": "ipython",
    "version": 3
   },
   "file_extension": ".py",
   "mimetype": "text/x-python",
   "name": "python",
   "nbconvert_exporter": "python",
   "pygments_lexer": "ipython3",
   "version": "3.7.1"
  }
 },
 "nbformat": 4,
 "nbformat_minor": 2
}
